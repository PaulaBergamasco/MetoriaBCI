{
  "nbformat": 4,
  "nbformat_minor": 5,
  "metadata": {
    "kernelspec": {
      "display_name": "Python 3",
      "language": "python",
      "name": "python3"
    },
    "language_info": {
      "codemirror_mode": {
        "name": "ipython",
        "version": 3
      },
      "file_extension": ".py",
      "mimetype": "text/x-python",
      "name": "python",
      "nbconvert_exporter": "python",
      "pygments_lexer": "ipython3",
      "version": "3.8.8"
    },
    "colab": {
      "name": "Curacion de DataFrames.ipynb",
      "provenance": [],
      "include_colab_link": true
    }
  },
  "cells": [
    {
      "cell_type": "markdown",
      "metadata": {
        "id": "view-in-github",
        "colab_type": "text"
      },
      "source": [
        "<a href=\"https://colab.research.google.com/github/PaulaBergamasco/MetoriaBCI/blob/main/Curacion_de_DataFrames.ipynb\" target=\"_parent\"><img src=\"https://colab.research.google.com/assets/colab-badge.svg\" alt=\"Open In Colab\"/></a>"
      ]
    },
    {
      "cell_type": "code",
      "metadata": {
        "id": "5a41bf8e"
      },
      "source": [
        "from pandas._libs.tslibs.timestamps import Timestamp\n",
        "from datetime import datetime\n",
        "import pandas as pd\n",
        "\n",
        "import numpy as np"
      ],
      "id": "5a41bf8e",
      "execution_count": null,
      "outputs": []
    },
    {
      "cell_type": "code",
      "metadata": {
        "colab": {
          "base_uri": "https://localhost:8080/"
        },
        "id": "svCMNAMkDvfN",
        "outputId": "8ac29811-9e47-44e6-b9eb-f6616f9e3bdf"
      },
      "source": [
        "from google.colab import drive\n",
        "drive.mount('/content/drive')"
      ],
      "id": "svCMNAMkDvfN",
      "execution_count": null,
      "outputs": [
        {
          "output_type": "stream",
          "text": [
            "Drive already mounted at /content/drive; to attempt to forcibly remount, call drive.mount(\"/content/drive\", force_remount=True).\n"
          ],
          "name": "stdout"
        }
      ]
    },
    {
      "cell_type": "code",
      "metadata": {
        "id": "8f071652"
      },
      "source": [
        "files_names = ['/content/drive/MyDrive/Mentoria /AA 0 - 2020-10-28.csv' , '/content/drive/MyDrive/Mentoria /AA 1 - 2020-11-24.txt', '/content/drive/MyDrive/Mentoria /AA 2 - 2020-11-24.txt',\n",
        "               '/content/drive/MyDrive/Mentoria /HA 1 - 2020-11-24.txt', '/content/drive/MyDrive/Mentoria /JA 1 - 2020 - 11-19.txt', '/content/drive/MyDrive/Mentoria /JA 2 - 2020-11-24.txt',\n",
        "               '/content/drive/MyDrive/Mentoria /MA 1 - 2020-12-18.txt']"
      ],
      "id": "8f071652",
      "execution_count": null,
      "outputs": []
    },
    {
      "cell_type": "code",
      "metadata": {
        "id": "c5ccd9f1"
      },
      "source": [
        "columns = ['SampleIndex', 'Canal1', 'Canal2', 'Canal3', 'Canal4', '5', '6', '7', 'Stimulus', 'Time', 'TimeStamp']"
      ],
      "id": "c5ccd9f1",
      "execution_count": null,
      "outputs": []
    },
    {
      "cell_type": "code",
      "metadata": {
        "id": "00e147c3",
        "colab": {
          "base_uri": "https://localhost:8080/",
          "height": 142
        },
        "outputId": "0d549c05-3733-40dc-87d3-3ce28b0739fc"
      },
      "source": [
        "AA0 = pd.read_csv(files_names[0], names=columns)\n",
        "AA1 = pd.read_csv(files_names[1], names=columns, skiprows=10)\n",
        "AA2 = pd.read_csv(files_names[2], names=columns, skiprows=10)\n",
        "HA1 = pd.read_csv(files_names[3], names=columns, skiprows=10)\n",
        "JA1 = pd.read_csv(files_names[4], names=columns, skiprows=10)\n",
        "JA2 = pd.read_csv(files_names[5], names=columns, skiprows=10)\n",
        "MA1 = pd.read_csv(files_names[6], names=columns, skiprows=10)\n",
        "MA1.head(3)"
      ],
      "id": "00e147c3",
      "execution_count": null,
      "outputs": [
        {
          "output_type": "execute_result",
          "data": {
            "text/html": [
              "<div>\n",
              "<style scoped>\n",
              "    .dataframe tbody tr th:only-of-type {\n",
              "        vertical-align: middle;\n",
              "    }\n",
              "\n",
              "    .dataframe tbody tr th {\n",
              "        vertical-align: top;\n",
              "    }\n",
              "\n",
              "    .dataframe thead th {\n",
              "        text-align: right;\n",
              "    }\n",
              "</style>\n",
              "<table border=\"1\" class=\"dataframe\">\n",
              "  <thead>\n",
              "    <tr style=\"text-align: right;\">\n",
              "      <th></th>\n",
              "      <th>SampleIndex</th>\n",
              "      <th>Canal1</th>\n",
              "      <th>Canal2</th>\n",
              "      <th>Canal3</th>\n",
              "      <th>Canal4</th>\n",
              "      <th>5</th>\n",
              "      <th>6</th>\n",
              "      <th>7</th>\n",
              "      <th>Stimulus</th>\n",
              "      <th>Time</th>\n",
              "      <th>TimeStamp</th>\n",
              "    </tr>\n",
              "  </thead>\n",
              "  <tbody>\n",
              "    <tr>\n",
              "      <th>0</th>\n",
              "      <td>0</td>\n",
              "      <td>717.21</td>\n",
              "      <td>-9.85</td>\n",
              "      <td>1325.26</td>\n",
              "      <td>1241.21</td>\n",
              "      <td>0.0</td>\n",
              "      <td>0.0</td>\n",
              "      <td>0.0</td>\n",
              "      <td>99</td>\n",
              "      <td>10:18:14.775</td>\n",
              "      <td>1608297494775</td>\n",
              "    </tr>\n",
              "    <tr>\n",
              "      <th>1</th>\n",
              "      <td>1</td>\n",
              "      <td>720.58</td>\n",
              "      <td>-6.43</td>\n",
              "      <td>1327.61</td>\n",
              "      <td>1239.30</td>\n",
              "      <td>0.0</td>\n",
              "      <td>0.0</td>\n",
              "      <td>0.0</td>\n",
              "      <td>99</td>\n",
              "      <td>10:18:14.790</td>\n",
              "      <td>1608297494790</td>\n",
              "    </tr>\n",
              "    <tr>\n",
              "      <th>2</th>\n",
              "      <td>2</td>\n",
              "      <td>731.72</td>\n",
              "      <td>16.29</td>\n",
              "      <td>1335.43</td>\n",
              "      <td>1253.36</td>\n",
              "      <td>0.0</td>\n",
              "      <td>0.0</td>\n",
              "      <td>0.0</td>\n",
              "      <td>99</td>\n",
              "      <td>10:18:14.790</td>\n",
              "      <td>1608297494790</td>\n",
              "    </tr>\n",
              "  </tbody>\n",
              "</table>\n",
              "</div>"
            ],
            "text/plain": [
              "   SampleIndex  Canal1  Canal2  ...  Stimulus           Time      TimeStamp\n",
              "0            0  717.21   -9.85  ...        99   10:18:14.775  1608297494775\n",
              "1            1  720.58   -6.43  ...        99   10:18:14.790  1608297494790\n",
              "2            2  731.72   16.29  ...        99   10:18:14.790  1608297494790\n",
              "\n",
              "[3 rows x 11 columns]"
            ]
          },
          "metadata": {
            "tags": []
          },
          "execution_count": 5
        }
      ]
    },
    {
      "cell_type": "code",
      "metadata": {
        "id": "c698baa0",
        "colab": {
          "base_uri": "https://localhost:8080/",
          "height": 103
        },
        "outputId": "29fc778e-02a3-4f0b-a706-7f8f804d1a55"
      },
      "source": [
        "\"\"\"\n",
        "Canal1 EEG data en microvoltios\n",
        "Canal2 EEG data en microvoltios\n",
        "Canal3 EEG data en microvoltios\n",
        "Canal4 EEG data en microvoltios\n",
        "5 Accel Data sin datos (columna sin informacion util)\n",
        "6 Accel Data sin datos (columna sin informacion util)\n",
        "7 Accel Data sin datos (columna sin informacion util)\n",
        "Stimulus Position Posicion del ojo durante la calibracion\n",
        "                0 --> not looking; 1 --> looking left; 2 --> looking right, 99 --> NaN (default value)\n",
        "Time Hora de la toma de muestra, no relevante\n",
        "ya que vamos a crear nuestra linea de tiempo para los 200Hz de muestreo\n",
        "TimeStamp Similar al anterior, provisto por OpenBCI no es relevante.\n",
        "\"\"\""
      ],
      "id": "c698baa0",
      "execution_count": null,
      "outputs": [
        {
          "output_type": "execute_result",
          "data": {
            "application/vnd.google.colaboratory.intrinsic+json": {
              "type": "string"
            },
            "text/plain": [
              "'\\nCanal1 EEG data en microvoltios\\nCanal2 EEG data en microvoltios\\nCanal3 EEG data en microvoltios\\nCanal4 EEG data en microvoltios\\n5 Accel Data sin datos (columna sin informacion util)\\n6 Accel Data sin datos (columna sin informacion util)\\n7 Accel Data sin datos (columna sin informacion util)\\nStimulus Position Posicion del ojo durante la calibracion\\n                0 --> not looking; 1 --> looking left; 2 --> looking right, 99 --> NaN (default value)\\nTime Hora de la toma de muestra, no relevante\\nya que vamos a crear nuestra linea de tiempo para los 200Hz de muestreo\\nTimeStamp Similar al anterior, provisto por OpenBCI no es relevante.\\n'"
            ]
          },
          "metadata": {
            "tags": []
          },
          "execution_count": 6
        }
      ]
    },
    {
      "cell_type": "markdown",
      "metadata": {
        "id": "997812cf"
      },
      "source": [
        "# Funciones para la curacion para las columnas no relevantes"
      ],
      "id": "997812cf"
    },
    {
      "cell_type": "code",
      "metadata": {
        "id": "7d2e9fe8"
      },
      "source": [
        "# Eliminar las columnas no relevantes\n",
        "def eliminar_columnas(df):\n",
        "    interesting_columns = ['SampleIndex','Canal1','Canal2','Canal3','Canal4', 'Stimulus']\n",
        "    # Elimina las columnas que no son de interes\n",
        "    for column in df:\n",
        "        if column not in interesting_columns:\n",
        "            df = df.drop(column, axis = 1)\n",
        "    return df"
      ],
      "id": "7d2e9fe8",
      "execution_count": null,
      "outputs": []
    },
    {
      "cell_type": "code",
      "metadata": {
        "id": "c56c26a3"
      },
      "source": [
        "AA0 = eliminar_columnas(AA0)\n",
        "AA1 = eliminar_columnas(AA1)\n",
        "AA2 = eliminar_columnas(AA2)\n",
        "HA1 = eliminar_columnas(HA1)\n",
        "JA1 = eliminar_columnas(JA1)\n",
        "JA2 = eliminar_columnas(JA2)\n",
        "MA1 = eliminar_columnas(MA1)"
      ],
      "id": "c56c26a3",
      "execution_count": null,
      "outputs": []
    },
    {
      "cell_type": "code",
      "metadata": {
        "id": "b9048da9",
        "colab": {
          "base_uri": "https://localhost:8080/",
          "height": 204
        },
        "outputId": "6059ad60-bc9b-4c1a-e32f-198fb0fea901"
      },
      "source": [
        "HA1.head()"
      ],
      "id": "b9048da9",
      "execution_count": null,
      "outputs": [
        {
          "output_type": "execute_result",
          "data": {
            "text/html": [
              "<div>\n",
              "<style scoped>\n",
              "    .dataframe tbody tr th:only-of-type {\n",
              "        vertical-align: middle;\n",
              "    }\n",
              "\n",
              "    .dataframe tbody tr th {\n",
              "        vertical-align: top;\n",
              "    }\n",
              "\n",
              "    .dataframe thead th {\n",
              "        text-align: right;\n",
              "    }\n",
              "</style>\n",
              "<table border=\"1\" class=\"dataframe\">\n",
              "  <thead>\n",
              "    <tr style=\"text-align: right;\">\n",
              "      <th></th>\n",
              "      <th>SampleIndex</th>\n",
              "      <th>Canal1</th>\n",
              "      <th>Canal2</th>\n",
              "      <th>Canal3</th>\n",
              "      <th>Canal4</th>\n",
              "      <th>Stimulus</th>\n",
              "    </tr>\n",
              "  </thead>\n",
              "  <tbody>\n",
              "    <tr>\n",
              "      <th>0</th>\n",
              "      <td>0</td>\n",
              "      <td>1798.66</td>\n",
              "      <td>771.75</td>\n",
              "      <td>1753.60</td>\n",
              "      <td>1814.62</td>\n",
              "      <td>99</td>\n",
              "    </tr>\n",
              "    <tr>\n",
              "      <th>1</th>\n",
              "      <td>1</td>\n",
              "      <td>1730.72</td>\n",
              "      <td>706.07</td>\n",
              "      <td>1715.23</td>\n",
              "      <td>1763.01</td>\n",
              "      <td>99</td>\n",
              "    </tr>\n",
              "    <tr>\n",
              "      <th>2</th>\n",
              "      <td>2</td>\n",
              "      <td>1822.16</td>\n",
              "      <td>806.13</td>\n",
              "      <td>1764.67</td>\n",
              "      <td>1848.29</td>\n",
              "      <td>99</td>\n",
              "    </tr>\n",
              "    <tr>\n",
              "      <th>3</th>\n",
              "      <td>3</td>\n",
              "      <td>1848.34</td>\n",
              "      <td>840.87</td>\n",
              "      <td>1777.78</td>\n",
              "      <td>1861.13</td>\n",
              "      <td>99</td>\n",
              "    </tr>\n",
              "    <tr>\n",
              "      <th>4</th>\n",
              "      <td>4</td>\n",
              "      <td>1766.41</td>\n",
              "      <td>753.03</td>\n",
              "      <td>1722.41</td>\n",
              "      <td>1784.65</td>\n",
              "      <td>99</td>\n",
              "    </tr>\n",
              "  </tbody>\n",
              "</table>\n",
              "</div>"
            ],
            "text/plain": [
              "   SampleIndex   Canal1  Canal2   Canal3   Canal4  Stimulus\n",
              "0            0  1798.66  771.75  1753.60  1814.62        99\n",
              "1            1  1730.72  706.07  1715.23  1763.01        99\n",
              "2            2  1822.16  806.13  1764.67  1848.29        99\n",
              "3            3  1848.34  840.87  1777.78  1861.13        99\n",
              "4            4  1766.41  753.03  1722.41  1784.65        99"
            ]
          },
          "metadata": {
            "tags": []
          },
          "execution_count": 9
        }
      ]
    },
    {
      "cell_type": "markdown",
      "metadata": {
        "id": "dd0d2fac"
      },
      "source": [
        "# Resta de media a los canales necesarios"
      ],
      "id": "dd0d2fac"
    },
    {
      "cell_type": "code",
      "metadata": {
        "id": "0759ba19"
      },
      "source": [
        "# Asumimos que si la media esta por encima de 300 hay ruido ya qye la señal de EEG normal\n",
        "# oscila entre los -250 y 250 microvoltios\n",
        "# La idea de este filtrado es eliminar esa componente de continua que seria ruido\n",
        "def elimina_continua(df):\n",
        "    canales = ['Canal1', 'Canal2', 'Canal3', 'Canal4']\n",
        "    for canal in canales:\n",
        "        if df[canal].mean() > 300:\n",
        "            df[canal] = df[canal] - df[canal].mean()\n",
        "    return df"
      ],
      "id": "0759ba19",
      "execution_count": null,
      "outputs": []
    },
    {
      "cell_type": "code",
      "metadata": {
        "id": "4887b785"
      },
      "source": [
        "AA0 = elimina_continua(AA0)\n",
        "AA1 = elimina_continua(AA1)\n",
        "AA2 = elimina_continua(AA2)\n",
        "HA1 = elimina_continua(HA1)\n",
        "JA1 = elimina_continua(JA1)\n",
        "JA2 = elimina_continua(JA2)\n",
        "MA1 = elimina_continua(MA1)"
      ],
      "id": "4887b785",
      "execution_count": null,
      "outputs": []
    },
    {
      "cell_type": "markdown",
      "metadata": {
        "id": "c3f59a74"
      },
      "source": [
        "# Eliminar los valores superiores a 250 e inferiores a -250"
      ],
      "id": "c3f59a74"
    },
    {
      "cell_type": "code",
      "metadata": {
        "id": "76ad9239",
        "colab": {
          "base_uri": "https://localhost:8080/",
          "height": 297
        },
        "outputId": "528dfed8-ab74-42a2-dfee-172af27171b8"
      },
      "source": [
        "HA1.describe().round()"
      ],
      "id": "76ad9239",
      "execution_count": null,
      "outputs": [
        {
          "output_type": "execute_result",
          "data": {
            "text/html": [
              "<div>\n",
              "<style scoped>\n",
              "    .dataframe tbody tr th:only-of-type {\n",
              "        vertical-align: middle;\n",
              "    }\n",
              "\n",
              "    .dataframe tbody tr th {\n",
              "        vertical-align: top;\n",
              "    }\n",
              "\n",
              "    .dataframe thead th {\n",
              "        text-align: right;\n",
              "    }\n",
              "</style>\n",
              "<table border=\"1\" class=\"dataframe\">\n",
              "  <thead>\n",
              "    <tr style=\"text-align: right;\">\n",
              "      <th></th>\n",
              "      <th>SampleIndex</th>\n",
              "      <th>Canal1</th>\n",
              "      <th>Canal2</th>\n",
              "      <th>Canal3</th>\n",
              "      <th>Canal4</th>\n",
              "      <th>Stimulus</th>\n",
              "    </tr>\n",
              "  </thead>\n",
              "  <tbody>\n",
              "    <tr>\n",
              "      <th>count</th>\n",
              "      <td>137693.0</td>\n",
              "      <td>137693.0</td>\n",
              "      <td>137693.0</td>\n",
              "      <td>137693.0</td>\n",
              "      <td>137693.0</td>\n",
              "      <td>137693.0</td>\n",
              "    </tr>\n",
              "    <tr>\n",
              "      <th>mean</th>\n",
              "      <td>100.0</td>\n",
              "      <td>0.0</td>\n",
              "      <td>0.0</td>\n",
              "      <td>0.0</td>\n",
              "      <td>-0.0</td>\n",
              "      <td>71.0</td>\n",
              "    </tr>\n",
              "    <tr>\n",
              "      <th>std</th>\n",
              "      <td>58.0</td>\n",
              "      <td>117.0</td>\n",
              "      <td>127.0</td>\n",
              "      <td>113.0</td>\n",
              "      <td>127.0</td>\n",
              "      <td>44.0</td>\n",
              "    </tr>\n",
              "    <tr>\n",
              "      <th>min</th>\n",
              "      <td>0.0</td>\n",
              "      <td>-500.0</td>\n",
              "      <td>-588.0</td>\n",
              "      <td>-411.0</td>\n",
              "      <td>-436.0</td>\n",
              "      <td>1.0</td>\n",
              "    </tr>\n",
              "    <tr>\n",
              "      <th>25%</th>\n",
              "      <td>50.0</td>\n",
              "      <td>-89.0</td>\n",
              "      <td>-92.0</td>\n",
              "      <td>-93.0</td>\n",
              "      <td>-105.0</td>\n",
              "      <td>2.0</td>\n",
              "    </tr>\n",
              "    <tr>\n",
              "      <th>50%</th>\n",
              "      <td>100.0</td>\n",
              "      <td>3.0</td>\n",
              "      <td>12.0</td>\n",
              "      <td>12.0</td>\n",
              "      <td>12.0</td>\n",
              "      <td>99.0</td>\n",
              "    </tr>\n",
              "    <tr>\n",
              "      <th>75%</th>\n",
              "      <td>150.0</td>\n",
              "      <td>93.0</td>\n",
              "      <td>109.0</td>\n",
              "      <td>95.0</td>\n",
              "      <td>104.0</td>\n",
              "      <td>99.0</td>\n",
              "    </tr>\n",
              "    <tr>\n",
              "      <th>max</th>\n",
              "      <td>200.0</td>\n",
              "      <td>562.0</td>\n",
              "      <td>1036.0</td>\n",
              "      <td>469.0</td>\n",
              "      <td>358.0</td>\n",
              "      <td>99.0</td>\n",
              "    </tr>\n",
              "  </tbody>\n",
              "</table>\n",
              "</div>"
            ],
            "text/plain": [
              "       SampleIndex    Canal1    Canal2    Canal3    Canal4  Stimulus\n",
              "count     137693.0  137693.0  137693.0  137693.0  137693.0  137693.0\n",
              "mean         100.0       0.0       0.0       0.0      -0.0      71.0\n",
              "std           58.0     117.0     127.0     113.0     127.0      44.0\n",
              "min            0.0    -500.0    -588.0    -411.0    -436.0       1.0\n",
              "25%           50.0     -89.0     -92.0     -93.0    -105.0       2.0\n",
              "50%          100.0       3.0      12.0      12.0      12.0      99.0\n",
              "75%          150.0      93.0     109.0      95.0     104.0      99.0\n",
              "max          200.0     562.0    1036.0     469.0     358.0      99.0"
            ]
          },
          "metadata": {
            "tags": []
          },
          "execution_count": 12
        }
      ]
    },
    {
      "cell_type": "code",
      "metadata": {
        "id": "a4baef49",
        "colab": {
          "base_uri": "https://localhost:8080/",
          "height": 297
        },
        "outputId": "71cd0315-5db8-4ece-87f4-25a136f4c26f"
      },
      "source": [
        "HA1[(HA1['Canal1'] < 251) & (HA1['Canal1'] > -251)].describe()"
      ],
      "id": "a4baef49",
      "execution_count": null,
      "outputs": [
        {
          "output_type": "execute_result",
          "data": {
            "text/html": [
              "<div>\n",
              "<style scoped>\n",
              "    .dataframe tbody tr th:only-of-type {\n",
              "        vertical-align: middle;\n",
              "    }\n",
              "\n",
              "    .dataframe tbody tr th {\n",
              "        vertical-align: top;\n",
              "    }\n",
              "\n",
              "    .dataframe thead th {\n",
              "        text-align: right;\n",
              "    }\n",
              "</style>\n",
              "<table border=\"1\" class=\"dataframe\">\n",
              "  <thead>\n",
              "    <tr style=\"text-align: right;\">\n",
              "      <th></th>\n",
              "      <th>SampleIndex</th>\n",
              "      <th>Canal1</th>\n",
              "      <th>Canal2</th>\n",
              "      <th>Canal3</th>\n",
              "      <th>Canal4</th>\n",
              "      <th>Stimulus</th>\n",
              "    </tr>\n",
              "  </thead>\n",
              "  <tbody>\n",
              "    <tr>\n",
              "      <th>count</th>\n",
              "      <td>134363.000000</td>\n",
              "      <td>134363.000000</td>\n",
              "      <td>134363.000000</td>\n",
              "      <td>134363.000000</td>\n",
              "      <td>134363.000000</td>\n",
              "      <td>134363.00000</td>\n",
              "    </tr>\n",
              "    <tr>\n",
              "      <th>mean</th>\n",
              "      <td>100.010754</td>\n",
              "      <td>0.369360</td>\n",
              "      <td>2.183031</td>\n",
              "      <td>0.889423</td>\n",
              "      <td>1.243065</td>\n",
              "      <td>70.49210</td>\n",
              "    </tr>\n",
              "    <tr>\n",
              "      <th>std</th>\n",
              "      <td>58.052152</td>\n",
              "      <td>109.254034</td>\n",
              "      <td>121.634717</td>\n",
              "      <td>108.399288</td>\n",
              "      <td>121.476763</td>\n",
              "      <td>44.34044</td>\n",
              "    </tr>\n",
              "    <tr>\n",
              "      <th>min</th>\n",
              "      <td>0.000000</td>\n",
              "      <td>-250.985979</td>\n",
              "      <td>-587.525374</td>\n",
              "      <td>-372.490736</td>\n",
              "      <td>-384.456555</td>\n",
              "      <td>1.00000</td>\n",
              "    </tr>\n",
              "    <tr>\n",
              "      <th>25%</th>\n",
              "      <td>50.000000</td>\n",
              "      <td>-87.300979</td>\n",
              "      <td>-90.205374</td>\n",
              "      <td>-91.120736</td>\n",
              "      <td>-102.416555</td>\n",
              "      <td>2.00000</td>\n",
              "    </tr>\n",
              "    <tr>\n",
              "      <th>50%</th>\n",
              "      <td>100.000000</td>\n",
              "      <td>3.404021</td>\n",
              "      <td>12.094626</td>\n",
              "      <td>12.239264</td>\n",
              "      <td>12.263445</td>\n",
              "      <td>99.00000</td>\n",
              "    </tr>\n",
              "    <tr>\n",
              "      <th>75%</th>\n",
              "      <td>150.000000</td>\n",
              "      <td>91.834021</td>\n",
              "      <td>108.014626</td>\n",
              "      <td>94.629264</td>\n",
              "      <td>102.993445</td>\n",
              "      <td>99.00000</td>\n",
              "    </tr>\n",
              "    <tr>\n",
              "      <th>max</th>\n",
              "      <td>200.000000</td>\n",
              "      <td>250.964021</td>\n",
              "      <td>1035.714626</td>\n",
              "      <td>468.919264</td>\n",
              "      <td>332.913445</td>\n",
              "      <td>99.00000</td>\n",
              "    </tr>\n",
              "  </tbody>\n",
              "</table>\n",
              "</div>"
            ],
            "text/plain": [
              "         SampleIndex         Canal1  ...         Canal4      Stimulus\n",
              "count  134363.000000  134363.000000  ...  134363.000000  134363.00000\n",
              "mean      100.010754       0.369360  ...       1.243065      70.49210\n",
              "std        58.052152     109.254034  ...     121.476763      44.34044\n",
              "min         0.000000    -250.985979  ...    -384.456555       1.00000\n",
              "25%        50.000000     -87.300979  ...    -102.416555       2.00000\n",
              "50%       100.000000       3.404021  ...      12.263445      99.00000\n",
              "75%       150.000000      91.834021  ...     102.993445      99.00000\n",
              "max       200.000000     250.964021  ...     332.913445      99.00000\n",
              "\n",
              "[8 rows x 6 columns]"
            ]
          },
          "metadata": {
            "tags": []
          },
          "execution_count": 13
        }
      ]
    },
    {
      "cell_type": "code",
      "metadata": {
        "id": "947b7092"
      },
      "source": [
        "def filtro_rango(df):\n",
        "    canales = ['Canal1', 'Canal2', 'Canal3', 'Canal4']\n",
        "    for canal in canales:\n",
        "        df = df[(df[canal] < 250) & (df[canal] > -250)]\n",
        "    return df"
      ],
      "id": "947b7092",
      "execution_count": null,
      "outputs": []
    },
    {
      "cell_type": "code",
      "metadata": {
        "id": "5b7be3f2"
      },
      "source": [
        "AA0 = filtro_rango(AA0)\n",
        "AA1 = filtro_rango(AA1)\n",
        "AA2 = filtro_rango(AA2)\n",
        "HA1 = filtro_rango(HA1)\n",
        "JA1 = filtro_rango(JA1)\n",
        "JA2 = filtro_rango(JA2)\n",
        "MA1 = filtro_rango(MA1)"
      ],
      "id": "5b7be3f2",
      "execution_count": null,
      "outputs": []
    },
    {
      "cell_type": "code",
      "metadata": {
        "id": "58a04fec",
        "colab": {
          "base_uri": "https://localhost:8080/",
          "height": 297
        },
        "outputId": "18b282fb-9dde-4675-d6bc-c54a3819fbba"
      },
      "source": [
        "HA1.describe().round()"
      ],
      "id": "58a04fec",
      "execution_count": null,
      "outputs": [
        {
          "output_type": "execute_result",
          "data": {
            "text/html": [
              "<div>\n",
              "<style scoped>\n",
              "    .dataframe tbody tr th:only-of-type {\n",
              "        vertical-align: middle;\n",
              "    }\n",
              "\n",
              "    .dataframe tbody tr th {\n",
              "        vertical-align: top;\n",
              "    }\n",
              "\n",
              "    .dataframe thead th {\n",
              "        text-align: right;\n",
              "    }\n",
              "</style>\n",
              "<table border=\"1\" class=\"dataframe\">\n",
              "  <thead>\n",
              "    <tr style=\"text-align: right;\">\n",
              "      <th></th>\n",
              "      <th>SampleIndex</th>\n",
              "      <th>Canal1</th>\n",
              "      <th>Canal2</th>\n",
              "      <th>Canal3</th>\n",
              "      <th>Canal4</th>\n",
              "      <th>Stimulus</th>\n",
              "    </tr>\n",
              "  </thead>\n",
              "  <tbody>\n",
              "    <tr>\n",
              "      <th>count</th>\n",
              "      <td>129852.0</td>\n",
              "      <td>129852.0</td>\n",
              "      <td>129852.0</td>\n",
              "      <td>129852.0</td>\n",
              "      <td>129852.0</td>\n",
              "      <td>129852.0</td>\n",
              "    </tr>\n",
              "    <tr>\n",
              "      <th>mean</th>\n",
              "      <td>100.0</td>\n",
              "      <td>3.0</td>\n",
              "      <td>7.0</td>\n",
              "      <td>3.0</td>\n",
              "      <td>4.0</td>\n",
              "      <td>70.0</td>\n",
              "    </tr>\n",
              "    <tr>\n",
              "      <th>std</th>\n",
              "      <td>58.0</td>\n",
              "      <td>104.0</td>\n",
              "      <td>112.0</td>\n",
              "      <td>103.0</td>\n",
              "      <td>115.0</td>\n",
              "      <td>44.0</td>\n",
              "    </tr>\n",
              "    <tr>\n",
              "      <th>min</th>\n",
              "      <td>0.0</td>\n",
              "      <td>-250.0</td>\n",
              "      <td>-250.0</td>\n",
              "      <td>-250.0</td>\n",
              "      <td>-250.0</td>\n",
              "      <td>1.0</td>\n",
              "    </tr>\n",
              "    <tr>\n",
              "      <th>25%</th>\n",
              "      <td>50.0</td>\n",
              "      <td>-83.0</td>\n",
              "      <td>-86.0</td>\n",
              "      <td>-87.0</td>\n",
              "      <td>-97.0</td>\n",
              "      <td>2.0</td>\n",
              "    </tr>\n",
              "    <tr>\n",
              "      <th>50%</th>\n",
              "      <td>100.0</td>\n",
              "      <td>6.0</td>\n",
              "      <td>16.0</td>\n",
              "      <td>15.0</td>\n",
              "      <td>15.0</td>\n",
              "      <td>99.0</td>\n",
              "    </tr>\n",
              "    <tr>\n",
              "      <th>75%</th>\n",
              "      <td>150.0</td>\n",
              "      <td>91.0</td>\n",
              "      <td>108.0</td>\n",
              "      <td>94.0</td>\n",
              "      <td>103.0</td>\n",
              "      <td>99.0</td>\n",
              "    </tr>\n",
              "    <tr>\n",
              "      <th>max</th>\n",
              "      <td>200.0</td>\n",
              "      <td>250.0</td>\n",
              "      <td>249.0</td>\n",
              "      <td>246.0</td>\n",
              "      <td>250.0</td>\n",
              "      <td>99.0</td>\n",
              "    </tr>\n",
              "  </tbody>\n",
              "</table>\n",
              "</div>"
            ],
            "text/plain": [
              "       SampleIndex    Canal1    Canal2    Canal3    Canal4  Stimulus\n",
              "count     129852.0  129852.0  129852.0  129852.0  129852.0  129852.0\n",
              "mean         100.0       3.0       7.0       3.0       4.0      70.0\n",
              "std           58.0     104.0     112.0     103.0     115.0      44.0\n",
              "min            0.0    -250.0    -250.0    -250.0    -250.0       1.0\n",
              "25%           50.0     -83.0     -86.0     -87.0     -97.0       2.0\n",
              "50%          100.0       6.0      16.0      15.0      15.0      99.0\n",
              "75%          150.0      91.0     108.0      94.0     103.0      99.0\n",
              "max          200.0     250.0     249.0     246.0     250.0      99.0"
            ]
          },
          "metadata": {
            "tags": []
          },
          "execution_count": 16
        }
      ]
    },
    {
      "cell_type": "markdown",
      "metadata": {
        "id": "ad8da659"
      },
      "source": [
        "# Agregar Columna Fuente"
      ],
      "id": "ad8da659"
    },
    {
      "cell_type": "code",
      "metadata": {
        "id": "333f042b"
      },
      "source": [
        "AA0['Fuente']= 'AA0'\n",
        "AA1['Fuente']= 'AA1'\n",
        "AA2['Fuente']= 'AA2'\n",
        "HA1['Fuente']= 'HA1'\n",
        "JA1['Fuente']= 'JA1'\n",
        "JA2['Fuente']= 'JA2'\n",
        "MA1['Fuente']= 'MA1'"
      ],
      "id": "333f042b",
      "execution_count": null,
      "outputs": []
    },
    {
      "cell_type": "markdown",
      "metadata": {
        "id": "50529d08"
      },
      "source": [
        "# Agregar Linea Temporal de los 200Hz"
      ],
      "id": "50529d08"
    },
    {
      "cell_type": "code",
      "metadata": {
        "id": "670b6f6e"
      },
      "source": [
        "TimeAA0= pd.date_range(start ='2017-1-1', periods = len(AA0), freq='5ms')\n",
        "TimeAA1= pd.date_range(start ='2017-1-1', periods = len(AA1), freq='5ms')\n",
        "TimeAA2= pd.date_range(start ='2017-1-1', periods = len(AA2), freq='5ms')\n",
        "TimeHA1= pd.date_range(start ='2017-1-1', periods = len(HA1), freq='5ms')\n",
        "TimeJA1= pd.date_range(start ='2017-1-1', periods = len(JA1), freq='5ms')\n",
        "TimeJA2= pd.date_range(start ='2017-1-1', periods = len(JA2), freq='5ms')\n",
        "TimeMA1= pd.date_range(start ='2017-1-1', periods = len(MA1), freq='5ms')\n",
        "AA0['STime']= TimeAA0.strftime('%M:%S.%f')\n",
        "AA1['STime']= TimeAA1.strftime('%M:%S.%f')\n",
        "AA2['STime']= TimeAA2.strftime('%M:%S.%f')\n",
        "HA1['STime']= TimeHA1.strftime('%M:%S.%f')\n",
        "JA1['STime']= TimeJA1.strftime('%M:%S.%f')\n",
        "JA2['STime']= TimeJA2.strftime('%M:%S.%f')\n",
        "MA1['STime']= TimeMA1.strftime('%M:%S.%f')"
      ],
      "id": "670b6f6e",
      "execution_count": null,
      "outputs": []
    },
    {
      "cell_type": "code",
      "metadata": {
        "id": "5ec51967",
        "colab": {
          "base_uri": "https://localhost:8080/",
          "height": 204
        },
        "outputId": "ecfc21f9-e65a-4628-c712-b993fdb5e70d"
      },
      "source": [
        "AA0.head()"
      ],
      "id": "5ec51967",
      "execution_count": null,
      "outputs": [
        {
          "output_type": "execute_result",
          "data": {
            "text/html": [
              "<div>\n",
              "<style scoped>\n",
              "    .dataframe tbody tr th:only-of-type {\n",
              "        vertical-align: middle;\n",
              "    }\n",
              "\n",
              "    .dataframe tbody tr th {\n",
              "        vertical-align: top;\n",
              "    }\n",
              "\n",
              "    .dataframe thead th {\n",
              "        text-align: right;\n",
              "    }\n",
              "</style>\n",
              "<table border=\"1\" class=\"dataframe\">\n",
              "  <thead>\n",
              "    <tr style=\"text-align: right;\">\n",
              "      <th></th>\n",
              "      <th>SampleIndex</th>\n",
              "      <th>Canal1</th>\n",
              "      <th>Canal2</th>\n",
              "      <th>Canal3</th>\n",
              "      <th>Canal4</th>\n",
              "      <th>Stimulus</th>\n",
              "      <th>Fuente</th>\n",
              "      <th>STime</th>\n",
              "    </tr>\n",
              "  </thead>\n",
              "  <tbody>\n",
              "    <tr>\n",
              "      <th>0</th>\n",
              "      <td>0</td>\n",
              "      <td>-1.86</td>\n",
              "      <td>-12.95</td>\n",
              "      <td>-9.18</td>\n",
              "      <td>-41.36</td>\n",
              "      <td>99</td>\n",
              "      <td>AA0</td>\n",
              "      <td>00:00.000000</td>\n",
              "    </tr>\n",
              "    <tr>\n",
              "      <th>1</th>\n",
              "      <td>1</td>\n",
              "      <td>10.77</td>\n",
              "      <td>3.47</td>\n",
              "      <td>6.87</td>\n",
              "      <td>-15.13</td>\n",
              "      <td>99</td>\n",
              "      <td>AA0</td>\n",
              "      <td>00:00.005000</td>\n",
              "    </tr>\n",
              "    <tr>\n",
              "      <th>2</th>\n",
              "      <td>2</td>\n",
              "      <td>87.61</td>\n",
              "      <td>65.61</td>\n",
              "      <td>88.78</td>\n",
              "      <td>32.23</td>\n",
              "      <td>99</td>\n",
              "      <td>AA0</td>\n",
              "      <td>00:00.010000</td>\n",
              "    </tr>\n",
              "    <tr>\n",
              "      <th>3</th>\n",
              "      <td>3</td>\n",
              "      <td>83.04</td>\n",
              "      <td>50.88</td>\n",
              "      <td>77.30</td>\n",
              "      <td>4.49</td>\n",
              "      <td>99</td>\n",
              "      <td>AA0</td>\n",
              "      <td>00:00.015000</td>\n",
              "    </tr>\n",
              "    <tr>\n",
              "      <th>4</th>\n",
              "      <td>4</td>\n",
              "      <td>8.07</td>\n",
              "      <td>-20.55</td>\n",
              "      <td>-6.68</td>\n",
              "      <td>-38.09</td>\n",
              "      <td>99</td>\n",
              "      <td>AA0</td>\n",
              "      <td>00:00.020000</td>\n",
              "    </tr>\n",
              "  </tbody>\n",
              "</table>\n",
              "</div>"
            ],
            "text/plain": [
              "   SampleIndex  Canal1  Canal2  Canal3  Canal4  Stimulus Fuente         STime\n",
              "0            0   -1.86  -12.95   -9.18  -41.36        99    AA0  00:00.000000\n",
              "1            1   10.77    3.47    6.87  -15.13        99    AA0  00:00.005000\n",
              "2            2   87.61   65.61   88.78   32.23        99    AA0  00:00.010000\n",
              "3            3   83.04   50.88   77.30    4.49        99    AA0  00:00.015000\n",
              "4            4    8.07  -20.55   -6.68  -38.09        99    AA0  00:00.020000"
            ]
          },
          "metadata": {
            "tags": []
          },
          "execution_count": 19
        }
      ]
    },
    {
      "cell_type": "code",
      "metadata": {
        "id": "2fb6fe3e",
        "colab": {
          "base_uri": "https://localhost:8080/",
          "height": 204
        },
        "outputId": "d80bbef1-e98f-4ed7-da76-aa57cbc97528"
      },
      "source": [
        "AA1.head()"
      ],
      "id": "2fb6fe3e",
      "execution_count": null,
      "outputs": [
        {
          "output_type": "execute_result",
          "data": {
            "text/html": [
              "<div>\n",
              "<style scoped>\n",
              "    .dataframe tbody tr th:only-of-type {\n",
              "        vertical-align: middle;\n",
              "    }\n",
              "\n",
              "    .dataframe tbody tr th {\n",
              "        vertical-align: top;\n",
              "    }\n",
              "\n",
              "    .dataframe thead th {\n",
              "        text-align: right;\n",
              "    }\n",
              "</style>\n",
              "<table border=\"1\" class=\"dataframe\">\n",
              "  <thead>\n",
              "    <tr style=\"text-align: right;\">\n",
              "      <th></th>\n",
              "      <th>SampleIndex</th>\n",
              "      <th>Canal1</th>\n",
              "      <th>Canal2</th>\n",
              "      <th>Canal3</th>\n",
              "      <th>Canal4</th>\n",
              "      <th>Stimulus</th>\n",
              "      <th>Fuente</th>\n",
              "      <th>STime</th>\n",
              "    </tr>\n",
              "  </thead>\n",
              "  <tbody>\n",
              "    <tr>\n",
              "      <th>0</th>\n",
              "      <td>0</td>\n",
              "      <td>188.245107</td>\n",
              "      <td>42.053325</td>\n",
              "      <td>144.616415</td>\n",
              "      <td>74.002857</td>\n",
              "      <td>99</td>\n",
              "      <td>AA1</td>\n",
              "      <td>00:00.000000</td>\n",
              "    </tr>\n",
              "    <tr>\n",
              "      <th>1</th>\n",
              "      <td>1</td>\n",
              "      <td>33.205107</td>\n",
              "      <td>-116.536675</td>\n",
              "      <td>-19.363585</td>\n",
              "      <td>10.962857</td>\n",
              "      <td>99</td>\n",
              "      <td>AA1</td>\n",
              "      <td>00:00.005000</td>\n",
              "    </tr>\n",
              "    <tr>\n",
              "      <th>3</th>\n",
              "      <td>3</td>\n",
              "      <td>43.925107</td>\n",
              "      <td>-103.906675</td>\n",
              "      <td>-35.243585</td>\n",
              "      <td>68.792857</td>\n",
              "      <td>99</td>\n",
              "      <td>AA1</td>\n",
              "      <td>00:00.010000</td>\n",
              "    </tr>\n",
              "    <tr>\n",
              "      <th>4</th>\n",
              "      <td>4</td>\n",
              "      <td>186.495107</td>\n",
              "      <td>28.013325</td>\n",
              "      <td>137.526415</td>\n",
              "      <td>80.272857</td>\n",
              "      <td>99</td>\n",
              "      <td>AA1</td>\n",
              "      <td>00:00.015000</td>\n",
              "    </tr>\n",
              "    <tr>\n",
              "      <th>5</th>\n",
              "      <td>5</td>\n",
              "      <td>38.685107</td>\n",
              "      <td>-138.666675</td>\n",
              "      <td>-28.633585</td>\n",
              "      <td>8.982857</td>\n",
              "      <td>99</td>\n",
              "      <td>AA1</td>\n",
              "      <td>00:00.020000</td>\n",
              "    </tr>\n",
              "  </tbody>\n",
              "</table>\n",
              "</div>"
            ],
            "text/plain": [
              "   SampleIndex      Canal1      Canal2  ...  Stimulus  Fuente         STime\n",
              "0            0  188.245107   42.053325  ...        99     AA1  00:00.000000\n",
              "1            1   33.205107 -116.536675  ...        99     AA1  00:00.005000\n",
              "3            3   43.925107 -103.906675  ...        99     AA1  00:00.010000\n",
              "4            4  186.495107   28.013325  ...        99     AA1  00:00.015000\n",
              "5            5   38.685107 -138.666675  ...        99     AA1  00:00.020000\n",
              "\n",
              "[5 rows x 8 columns]"
            ]
          },
          "metadata": {
            "tags": []
          },
          "execution_count": 20
        }
      ]
    },
    {
      "cell_type": "code",
      "metadata": {
        "id": "e45515a0",
        "colab": {
          "base_uri": "https://localhost:8080/",
          "height": 204
        },
        "outputId": "1998d7d7-648e-43ee-a54b-2d5147a6bd79"
      },
      "source": [
        "AA2.head()"
      ],
      "id": "e45515a0",
      "execution_count": null,
      "outputs": [
        {
          "output_type": "execute_result",
          "data": {
            "text/html": [
              "<div>\n",
              "<style scoped>\n",
              "    .dataframe tbody tr th:only-of-type {\n",
              "        vertical-align: middle;\n",
              "    }\n",
              "\n",
              "    .dataframe tbody tr th {\n",
              "        vertical-align: top;\n",
              "    }\n",
              "\n",
              "    .dataframe thead th {\n",
              "        text-align: right;\n",
              "    }\n",
              "</style>\n",
              "<table border=\"1\" class=\"dataframe\">\n",
              "  <thead>\n",
              "    <tr style=\"text-align: right;\">\n",
              "      <th></th>\n",
              "      <th>SampleIndex</th>\n",
              "      <th>Canal1</th>\n",
              "      <th>Canal2</th>\n",
              "      <th>Canal3</th>\n",
              "      <th>Canal4</th>\n",
              "      <th>Stimulus</th>\n",
              "      <th>Fuente</th>\n",
              "      <th>STime</th>\n",
              "    </tr>\n",
              "  </thead>\n",
              "  <tbody>\n",
              "    <tr>\n",
              "      <th>0</th>\n",
              "      <td>0</td>\n",
              "      <td>-106.521545</td>\n",
              "      <td>-213.002669</td>\n",
              "      <td>-201.22592</td>\n",
              "      <td>-143.46079</td>\n",
              "      <td>99</td>\n",
              "      <td>AA2</td>\n",
              "      <td>00:00.000000</td>\n",
              "    </tr>\n",
              "    <tr>\n",
              "      <th>1</th>\n",
              "      <td>1</td>\n",
              "      <td>-44.991545</td>\n",
              "      <td>-158.522669</td>\n",
              "      <td>-162.33592</td>\n",
              "      <td>-91.88079</td>\n",
              "      <td>99</td>\n",
              "      <td>AA2</td>\n",
              "      <td>00:00.005000</td>\n",
              "    </tr>\n",
              "    <tr>\n",
              "      <th>4</th>\n",
              "      <td>4</td>\n",
              "      <td>-89.991545</td>\n",
              "      <td>-206.832669</td>\n",
              "      <td>-186.63592</td>\n",
              "      <td>-128.52079</td>\n",
              "      <td>99</td>\n",
              "      <td>AA2</td>\n",
              "      <td>00:00.010000</td>\n",
              "    </tr>\n",
              "    <tr>\n",
              "      <th>5</th>\n",
              "      <td>5</td>\n",
              "      <td>-36.911545</td>\n",
              "      <td>-181.162669</td>\n",
              "      <td>-158.29592</td>\n",
              "      <td>-80.10079</td>\n",
              "      <td>99</td>\n",
              "      <td>AA2</td>\n",
              "      <td>00:00.015000</td>\n",
              "    </tr>\n",
              "    <tr>\n",
              "      <th>8</th>\n",
              "      <td>8</td>\n",
              "      <td>-97.401545</td>\n",
              "      <td>-212.832669</td>\n",
              "      <td>-196.98592</td>\n",
              "      <td>-122.06079</td>\n",
              "      <td>99</td>\n",
              "      <td>AA2</td>\n",
              "      <td>00:00.020000</td>\n",
              "    </tr>\n",
              "  </tbody>\n",
              "</table>\n",
              "</div>"
            ],
            "text/plain": [
              "   SampleIndex      Canal1      Canal2  ...  Stimulus  Fuente         STime\n",
              "0            0 -106.521545 -213.002669  ...        99     AA2  00:00.000000\n",
              "1            1  -44.991545 -158.522669  ...        99     AA2  00:00.005000\n",
              "4            4  -89.991545 -206.832669  ...        99     AA2  00:00.010000\n",
              "5            5  -36.911545 -181.162669  ...        99     AA2  00:00.015000\n",
              "8            8  -97.401545 -212.832669  ...        99     AA2  00:00.020000\n",
              "\n",
              "[5 rows x 8 columns]"
            ]
          },
          "metadata": {
            "tags": []
          },
          "execution_count": 21
        }
      ]
    },
    {
      "cell_type": "code",
      "metadata": {
        "id": "d09ed02f",
        "colab": {
          "base_uri": "https://localhost:8080/",
          "height": 204
        },
        "outputId": "ddd4675d-a1f5-4208-f538-417256ed241d"
      },
      "source": [
        "HA1.head()"
      ],
      "id": "d09ed02f",
      "execution_count": null,
      "outputs": [
        {
          "output_type": "execute_result",
          "data": {
            "text/html": [
              "<div>\n",
              "<style scoped>\n",
              "    .dataframe tbody tr th:only-of-type {\n",
              "        vertical-align: middle;\n",
              "    }\n",
              "\n",
              "    .dataframe tbody tr th {\n",
              "        vertical-align: top;\n",
              "    }\n",
              "\n",
              "    .dataframe thead th {\n",
              "        text-align: right;\n",
              "    }\n",
              "</style>\n",
              "<table border=\"1\" class=\"dataframe\">\n",
              "  <thead>\n",
              "    <tr style=\"text-align: right;\">\n",
              "      <th></th>\n",
              "      <th>SampleIndex</th>\n",
              "      <th>Canal1</th>\n",
              "      <th>Canal2</th>\n",
              "      <th>Canal3</th>\n",
              "      <th>Canal4</th>\n",
              "      <th>Stimulus</th>\n",
              "      <th>Fuente</th>\n",
              "      <th>STime</th>\n",
              "    </tr>\n",
              "  </thead>\n",
              "  <tbody>\n",
              "    <tr>\n",
              "      <th>0</th>\n",
              "      <td>0</td>\n",
              "      <td>-149.455979</td>\n",
              "      <td>-168.755374</td>\n",
              "      <td>-155.410736</td>\n",
              "      <td>-168.636555</td>\n",
              "      <td>99</td>\n",
              "      <td>HA1</td>\n",
              "      <td>00:00.000000</td>\n",
              "    </tr>\n",
              "    <tr>\n",
              "      <th>1</th>\n",
              "      <td>1</td>\n",
              "      <td>-217.395979</td>\n",
              "      <td>-234.435374</td>\n",
              "      <td>-193.780736</td>\n",
              "      <td>-220.246555</td>\n",
              "      <td>99</td>\n",
              "      <td>HA1</td>\n",
              "      <td>00:00.005000</td>\n",
              "    </tr>\n",
              "    <tr>\n",
              "      <th>2</th>\n",
              "      <td>2</td>\n",
              "      <td>-125.955979</td>\n",
              "      <td>-134.375374</td>\n",
              "      <td>-144.340736</td>\n",
              "      <td>-134.966555</td>\n",
              "      <td>99</td>\n",
              "      <td>HA1</td>\n",
              "      <td>00:00.010000</td>\n",
              "    </tr>\n",
              "    <tr>\n",
              "      <th>3</th>\n",
              "      <td>3</td>\n",
              "      <td>-99.775979</td>\n",
              "      <td>-99.635374</td>\n",
              "      <td>-131.230736</td>\n",
              "      <td>-122.126555</td>\n",
              "      <td>99</td>\n",
              "      <td>HA1</td>\n",
              "      <td>00:00.015000</td>\n",
              "    </tr>\n",
              "    <tr>\n",
              "      <th>4</th>\n",
              "      <td>4</td>\n",
              "      <td>-181.705979</td>\n",
              "      <td>-187.475374</td>\n",
              "      <td>-186.600736</td>\n",
              "      <td>-198.606555</td>\n",
              "      <td>99</td>\n",
              "      <td>HA1</td>\n",
              "      <td>00:00.020000</td>\n",
              "    </tr>\n",
              "  </tbody>\n",
              "</table>\n",
              "</div>"
            ],
            "text/plain": [
              "   SampleIndex      Canal1      Canal2  ...  Stimulus  Fuente         STime\n",
              "0            0 -149.455979 -168.755374  ...        99     HA1  00:00.000000\n",
              "1            1 -217.395979 -234.435374  ...        99     HA1  00:00.005000\n",
              "2            2 -125.955979 -134.375374  ...        99     HA1  00:00.010000\n",
              "3            3  -99.775979  -99.635374  ...        99     HA1  00:00.015000\n",
              "4            4 -181.705979 -187.475374  ...        99     HA1  00:00.020000\n",
              "\n",
              "[5 rows x 8 columns]"
            ]
          },
          "metadata": {
            "tags": []
          },
          "execution_count": 22
        }
      ]
    },
    {
      "cell_type": "code",
      "metadata": {
        "id": "ff79a6d8",
        "colab": {
          "base_uri": "https://localhost:8080/",
          "height": 204
        },
        "outputId": "9cedff60-33c9-43b2-b5ca-8f042e715eaf"
      },
      "source": [
        "JA1.head()"
      ],
      "id": "ff79a6d8",
      "execution_count": null,
      "outputs": [
        {
          "output_type": "execute_result",
          "data": {
            "text/html": [
              "<div>\n",
              "<style scoped>\n",
              "    .dataframe tbody tr th:only-of-type {\n",
              "        vertical-align: middle;\n",
              "    }\n",
              "\n",
              "    .dataframe tbody tr th {\n",
              "        vertical-align: top;\n",
              "    }\n",
              "\n",
              "    .dataframe thead th {\n",
              "        text-align: right;\n",
              "    }\n",
              "</style>\n",
              "<table border=\"1\" class=\"dataframe\">\n",
              "  <thead>\n",
              "    <tr style=\"text-align: right;\">\n",
              "      <th></th>\n",
              "      <th>SampleIndex</th>\n",
              "      <th>Canal1</th>\n",
              "      <th>Canal2</th>\n",
              "      <th>Canal3</th>\n",
              "      <th>Canal4</th>\n",
              "      <th>Stimulus</th>\n",
              "      <th>Fuente</th>\n",
              "      <th>STime</th>\n",
              "    </tr>\n",
              "  </thead>\n",
              "  <tbody>\n",
              "    <tr>\n",
              "      <th>0</th>\n",
              "      <td>0</td>\n",
              "      <td>-114.51323</td>\n",
              "      <td>-117.521456</td>\n",
              "      <td>-90.507642</td>\n",
              "      <td>-92.035311</td>\n",
              "      <td>99</td>\n",
              "      <td>JA1</td>\n",
              "      <td>00:00.000000</td>\n",
              "    </tr>\n",
              "    <tr>\n",
              "      <th>1</th>\n",
              "      <td>1</td>\n",
              "      <td>-101.19323</td>\n",
              "      <td>-110.251456</td>\n",
              "      <td>-86.797642</td>\n",
              "      <td>-84.465311</td>\n",
              "      <td>99</td>\n",
              "      <td>JA1</td>\n",
              "      <td>00:00.005000</td>\n",
              "    </tr>\n",
              "    <tr>\n",
              "      <th>2</th>\n",
              "      <td>2</td>\n",
              "      <td>-93.88323</td>\n",
              "      <td>-105.481456</td>\n",
              "      <td>-86.627642</td>\n",
              "      <td>-83.395311</td>\n",
              "      <td>99</td>\n",
              "      <td>JA1</td>\n",
              "      <td>00:00.010000</td>\n",
              "    </tr>\n",
              "    <tr>\n",
              "      <th>3</th>\n",
              "      <td>3</td>\n",
              "      <td>-100.20323</td>\n",
              "      <td>-106.291456</td>\n",
              "      <td>-85.907642</td>\n",
              "      <td>-85.445311</td>\n",
              "      <td>99</td>\n",
              "      <td>JA1</td>\n",
              "      <td>00:00.015000</td>\n",
              "    </tr>\n",
              "    <tr>\n",
              "      <th>4</th>\n",
              "      <td>4</td>\n",
              "      <td>-101.65323</td>\n",
              "      <td>-104.951456</td>\n",
              "      <td>-83.377642</td>\n",
              "      <td>-83.505311</td>\n",
              "      <td>99</td>\n",
              "      <td>JA1</td>\n",
              "      <td>00:00.020000</td>\n",
              "    </tr>\n",
              "  </tbody>\n",
              "</table>\n",
              "</div>"
            ],
            "text/plain": [
              "   SampleIndex     Canal1      Canal2  ...  Stimulus  Fuente         STime\n",
              "0            0 -114.51323 -117.521456  ...        99     JA1  00:00.000000\n",
              "1            1 -101.19323 -110.251456  ...        99     JA1  00:00.005000\n",
              "2            2  -93.88323 -105.481456  ...        99     JA1  00:00.010000\n",
              "3            3 -100.20323 -106.291456  ...        99     JA1  00:00.015000\n",
              "4            4 -101.65323 -104.951456  ...        99     JA1  00:00.020000\n",
              "\n",
              "[5 rows x 8 columns]"
            ]
          },
          "metadata": {
            "tags": []
          },
          "execution_count": 23
        }
      ]
    },
    {
      "cell_type": "code",
      "metadata": {
        "id": "18102199",
        "colab": {
          "base_uri": "https://localhost:8080/",
          "height": 204
        },
        "outputId": "9ee92689-6ba2-4be6-dcb4-61b8eeba2f0f"
      },
      "source": [
        "JA2.head()"
      ],
      "id": "18102199",
      "execution_count": null,
      "outputs": [
        {
          "output_type": "execute_result",
          "data": {
            "text/html": [
              "<div>\n",
              "<style scoped>\n",
              "    .dataframe tbody tr th:only-of-type {\n",
              "        vertical-align: middle;\n",
              "    }\n",
              "\n",
              "    .dataframe tbody tr th {\n",
              "        vertical-align: top;\n",
              "    }\n",
              "\n",
              "    .dataframe thead th {\n",
              "        text-align: right;\n",
              "    }\n",
              "</style>\n",
              "<table border=\"1\" class=\"dataframe\">\n",
              "  <thead>\n",
              "    <tr style=\"text-align: right;\">\n",
              "      <th></th>\n",
              "      <th>SampleIndex</th>\n",
              "      <th>Canal1</th>\n",
              "      <th>Canal2</th>\n",
              "      <th>Canal3</th>\n",
              "      <th>Canal4</th>\n",
              "      <th>Stimulus</th>\n",
              "      <th>Fuente</th>\n",
              "      <th>STime</th>\n",
              "    </tr>\n",
              "  </thead>\n",
              "  <tbody>\n",
              "    <tr>\n",
              "      <th>216</th>\n",
              "      <td>15</td>\n",
              "      <td>223.150763</td>\n",
              "      <td>-120.7637</td>\n",
              "      <td>58.833857</td>\n",
              "      <td>107.253943</td>\n",
              "      <td>99</td>\n",
              "      <td>JA2</td>\n",
              "      <td>00:00.000000</td>\n",
              "    </tr>\n",
              "    <tr>\n",
              "      <th>223</th>\n",
              "      <td>22</td>\n",
              "      <td>237.960763</td>\n",
              "      <td>-63.1237</td>\n",
              "      <td>86.503857</td>\n",
              "      <td>187.713943</td>\n",
              "      <td>99</td>\n",
              "      <td>JA2</td>\n",
              "      <td>00:00.005000</td>\n",
              "    </tr>\n",
              "    <tr>\n",
              "      <th>224</th>\n",
              "      <td>23</td>\n",
              "      <td>194.250763</td>\n",
              "      <td>-130.4837</td>\n",
              "      <td>36.413857</td>\n",
              "      <td>98.303943</td>\n",
              "      <td>99</td>\n",
              "      <td>JA2</td>\n",
              "      <td>00:00.010000</td>\n",
              "    </tr>\n",
              "    <tr>\n",
              "      <th>227</th>\n",
              "      <td>26</td>\n",
              "      <td>216.610763</td>\n",
              "      <td>-66.2237</td>\n",
              "      <td>87.563857</td>\n",
              "      <td>181.233943</td>\n",
              "      <td>99</td>\n",
              "      <td>JA2</td>\n",
              "      <td>00:00.015000</td>\n",
              "    </tr>\n",
              "    <tr>\n",
              "      <th>228</th>\n",
              "      <td>27</td>\n",
              "      <td>182.440763</td>\n",
              "      <td>-128.6737</td>\n",
              "      <td>49.813857</td>\n",
              "      <td>98.233943</td>\n",
              "      <td>99</td>\n",
              "      <td>JA2</td>\n",
              "      <td>00:00.020000</td>\n",
              "    </tr>\n",
              "  </tbody>\n",
              "</table>\n",
              "</div>"
            ],
            "text/plain": [
              "     SampleIndex      Canal1    Canal2  ...  Stimulus  Fuente         STime\n",
              "216           15  223.150763 -120.7637  ...        99     JA2  00:00.000000\n",
              "223           22  237.960763  -63.1237  ...        99     JA2  00:00.005000\n",
              "224           23  194.250763 -130.4837  ...        99     JA2  00:00.010000\n",
              "227           26  216.610763  -66.2237  ...        99     JA2  00:00.015000\n",
              "228           27  182.440763 -128.6737  ...        99     JA2  00:00.020000\n",
              "\n",
              "[5 rows x 8 columns]"
            ]
          },
          "metadata": {
            "tags": []
          },
          "execution_count": 24
        }
      ]
    },
    {
      "cell_type": "code",
      "metadata": {
        "id": "0d7abb4b",
        "colab": {
          "base_uri": "https://localhost:8080/",
          "height": 204
        },
        "outputId": "78d5e64d-59c5-4c92-e6d4-cc150b37dead"
      },
      "source": [
        "MA1.head()"
      ],
      "id": "0d7abb4b",
      "execution_count": null,
      "outputs": [
        {
          "output_type": "execute_result",
          "data": {
            "text/html": [
              "<div>\n",
              "<style scoped>\n",
              "    .dataframe tbody tr th:only-of-type {\n",
              "        vertical-align: middle;\n",
              "    }\n",
              "\n",
              "    .dataframe tbody tr th {\n",
              "        vertical-align: top;\n",
              "    }\n",
              "\n",
              "    .dataframe thead th {\n",
              "        text-align: right;\n",
              "    }\n",
              "</style>\n",
              "<table border=\"1\" class=\"dataframe\">\n",
              "  <thead>\n",
              "    <tr style=\"text-align: right;\">\n",
              "      <th></th>\n",
              "      <th>SampleIndex</th>\n",
              "      <th>Canal1</th>\n",
              "      <th>Canal2</th>\n",
              "      <th>Canal3</th>\n",
              "      <th>Canal4</th>\n",
              "      <th>Stimulus</th>\n",
              "      <th>Fuente</th>\n",
              "      <th>STime</th>\n",
              "    </tr>\n",
              "  </thead>\n",
              "  <tbody>\n",
              "    <tr>\n",
              "      <th>0</th>\n",
              "      <td>0</td>\n",
              "      <td>-49.905006</td>\n",
              "      <td>-9.85</td>\n",
              "      <td>-23.809226</td>\n",
              "      <td>-52.29113</td>\n",
              "      <td>99</td>\n",
              "      <td>MA1</td>\n",
              "      <td>00:00.000000</td>\n",
              "    </tr>\n",
              "    <tr>\n",
              "      <th>1</th>\n",
              "      <td>1</td>\n",
              "      <td>-46.535006</td>\n",
              "      <td>-6.43</td>\n",
              "      <td>-21.459226</td>\n",
              "      <td>-54.20113</td>\n",
              "      <td>99</td>\n",
              "      <td>MA1</td>\n",
              "      <td>00:00.005000</td>\n",
              "    </tr>\n",
              "    <tr>\n",
              "      <th>2</th>\n",
              "      <td>2</td>\n",
              "      <td>-35.395006</td>\n",
              "      <td>16.29</td>\n",
              "      <td>-13.639226</td>\n",
              "      <td>-40.14113</td>\n",
              "      <td>99</td>\n",
              "      <td>MA1</td>\n",
              "      <td>00:00.010000</td>\n",
              "    </tr>\n",
              "    <tr>\n",
              "      <th>3</th>\n",
              "      <td>3</td>\n",
              "      <td>-42.395006</td>\n",
              "      <td>14.78</td>\n",
              "      <td>-10.369226</td>\n",
              "      <td>-42.74113</td>\n",
              "      <td>99</td>\n",
              "      <td>MA1</td>\n",
              "      <td>00:00.015000</td>\n",
              "    </tr>\n",
              "    <tr>\n",
              "      <th>4</th>\n",
              "      <td>4</td>\n",
              "      <td>-48.365006</td>\n",
              "      <td>0.03</td>\n",
              "      <td>-13.269226</td>\n",
              "      <td>-46.56113</td>\n",
              "      <td>99</td>\n",
              "      <td>MA1</td>\n",
              "      <td>00:00.020000</td>\n",
              "    </tr>\n",
              "  </tbody>\n",
              "</table>\n",
              "</div>"
            ],
            "text/plain": [
              "   SampleIndex     Canal1  Canal2  ...  Stimulus  Fuente         STime\n",
              "0            0 -49.905006   -9.85  ...        99     MA1  00:00.000000\n",
              "1            1 -46.535006   -6.43  ...        99     MA1  00:00.005000\n",
              "2            2 -35.395006   16.29  ...        99     MA1  00:00.010000\n",
              "3            3 -42.395006   14.78  ...        99     MA1  00:00.015000\n",
              "4            4 -48.365006    0.03  ...        99     MA1  00:00.020000\n",
              "\n",
              "[5 rows x 8 columns]"
            ]
          },
          "metadata": {
            "tags": []
          },
          "execution_count": 25
        }
      ]
    },
    {
      "cell_type": "code",
      "metadata": {
        "id": "dc80ed48"
      },
      "source": [
        "df = pd.concat([AA0, AA1, AA2, HA1, JA1, JA2, MA1])"
      ],
      "id": "dc80ed48",
      "execution_count": null,
      "outputs": []
    },
    {
      "cell_type": "code",
      "metadata": {
        "id": "718f3ff1",
        "colab": {
          "base_uri": "https://localhost:8080/",
          "height": 419
        },
        "outputId": "91b2b6f1-ddfc-4cfe-863f-19a40a550362"
      },
      "source": [
        "df"
      ],
      "id": "718f3ff1",
      "execution_count": null,
      "outputs": [
        {
          "output_type": "execute_result",
          "data": {
            "text/html": [
              "<div>\n",
              "<style scoped>\n",
              "    .dataframe tbody tr th:only-of-type {\n",
              "        vertical-align: middle;\n",
              "    }\n",
              "\n",
              "    .dataframe tbody tr th {\n",
              "        vertical-align: top;\n",
              "    }\n",
              "\n",
              "    .dataframe thead th {\n",
              "        text-align: right;\n",
              "    }\n",
              "</style>\n",
              "<table border=\"1\" class=\"dataframe\">\n",
              "  <thead>\n",
              "    <tr style=\"text-align: right;\">\n",
              "      <th></th>\n",
              "      <th>SampleIndex</th>\n",
              "      <th>Canal1</th>\n",
              "      <th>Canal2</th>\n",
              "      <th>Canal3</th>\n",
              "      <th>Canal4</th>\n",
              "      <th>Stimulus</th>\n",
              "      <th>Fuente</th>\n",
              "      <th>STime</th>\n",
              "    </tr>\n",
              "  </thead>\n",
              "  <tbody>\n",
              "    <tr>\n",
              "      <th>0</th>\n",
              "      <td>0</td>\n",
              "      <td>-1.860000</td>\n",
              "      <td>-12.95</td>\n",
              "      <td>-9.180000</td>\n",
              "      <td>-41.36000</td>\n",
              "      <td>99</td>\n",
              "      <td>AA0</td>\n",
              "      <td>00:00.000000</td>\n",
              "    </tr>\n",
              "    <tr>\n",
              "      <th>1</th>\n",
              "      <td>1</td>\n",
              "      <td>10.770000</td>\n",
              "      <td>3.47</td>\n",
              "      <td>6.870000</td>\n",
              "      <td>-15.13000</td>\n",
              "      <td>99</td>\n",
              "      <td>AA0</td>\n",
              "      <td>00:00.005000</td>\n",
              "    </tr>\n",
              "    <tr>\n",
              "      <th>2</th>\n",
              "      <td>2</td>\n",
              "      <td>87.610000</td>\n",
              "      <td>65.61</td>\n",
              "      <td>88.780000</td>\n",
              "      <td>32.23000</td>\n",
              "      <td>99</td>\n",
              "      <td>AA0</td>\n",
              "      <td>00:00.010000</td>\n",
              "    </tr>\n",
              "    <tr>\n",
              "      <th>3</th>\n",
              "      <td>3</td>\n",
              "      <td>83.040000</td>\n",
              "      <td>50.88</td>\n",
              "      <td>77.300000</td>\n",
              "      <td>4.49000</td>\n",
              "      <td>99</td>\n",
              "      <td>AA0</td>\n",
              "      <td>00:00.015000</td>\n",
              "    </tr>\n",
              "    <tr>\n",
              "      <th>4</th>\n",
              "      <td>4</td>\n",
              "      <td>8.070000</td>\n",
              "      <td>-20.55</td>\n",
              "      <td>-6.680000</td>\n",
              "      <td>-38.09000</td>\n",
              "      <td>99</td>\n",
              "      <td>AA0</td>\n",
              "      <td>00:00.020000</td>\n",
              "    </tr>\n",
              "    <tr>\n",
              "      <th>...</th>\n",
              "      <td>...</td>\n",
              "      <td>...</td>\n",
              "      <td>...</td>\n",
              "      <td>...</td>\n",
              "      <td>...</td>\n",
              "      <td>...</td>\n",
              "      <td>...</td>\n",
              "      <td>...</td>\n",
              "    </tr>\n",
              "    <tr>\n",
              "      <th>69705</th>\n",
              "      <td>140</td>\n",
              "      <td>37.984994</td>\n",
              "      <td>36.59</td>\n",
              "      <td>21.540774</td>\n",
              "      <td>48.65887</td>\n",
              "      <td>99</td>\n",
              "      <td>MA1</td>\n",
              "      <td>05:48.215000</td>\n",
              "    </tr>\n",
              "    <tr>\n",
              "      <th>69706</th>\n",
              "      <td>141</td>\n",
              "      <td>41.934994</td>\n",
              "      <td>27.30</td>\n",
              "      <td>29.620774</td>\n",
              "      <td>46.61887</td>\n",
              "      <td>99</td>\n",
              "      <td>MA1</td>\n",
              "      <td>05:48.220000</td>\n",
              "    </tr>\n",
              "    <tr>\n",
              "      <th>69707</th>\n",
              "      <td>142</td>\n",
              "      <td>50.934994</td>\n",
              "      <td>27.28</td>\n",
              "      <td>35.680774</td>\n",
              "      <td>51.85887</td>\n",
              "      <td>99</td>\n",
              "      <td>MA1</td>\n",
              "      <td>05:48.225000</td>\n",
              "    </tr>\n",
              "    <tr>\n",
              "      <th>69708</th>\n",
              "      <td>143</td>\n",
              "      <td>43.424994</td>\n",
              "      <td>31.55</td>\n",
              "      <td>24.580774</td>\n",
              "      <td>40.89887</td>\n",
              "      <td>99</td>\n",
              "      <td>MA1</td>\n",
              "      <td>05:48.230000</td>\n",
              "    </tr>\n",
              "    <tr>\n",
              "      <th>69709</th>\n",
              "      <td>144</td>\n",
              "      <td>31.894994</td>\n",
              "      <td>29.78</td>\n",
              "      <td>19.080774</td>\n",
              "      <td>43.37887</td>\n",
              "      <td>99</td>\n",
              "      <td>MA1</td>\n",
              "      <td>05:48.235000</td>\n",
              "    </tr>\n",
              "  </tbody>\n",
              "</table>\n",
              "<p>586809 rows × 8 columns</p>\n",
              "</div>"
            ],
            "text/plain": [
              "       SampleIndex     Canal1  Canal2  ...  Stimulus  Fuente         STime\n",
              "0                0  -1.860000  -12.95  ...        99     AA0  00:00.000000\n",
              "1                1  10.770000    3.47  ...        99     AA0  00:00.005000\n",
              "2                2  87.610000   65.61  ...        99     AA0  00:00.010000\n",
              "3                3  83.040000   50.88  ...        99     AA0  00:00.015000\n",
              "4                4   8.070000  -20.55  ...        99     AA0  00:00.020000\n",
              "...            ...        ...     ...  ...       ...     ...           ...\n",
              "69705          140  37.984994   36.59  ...        99     MA1  05:48.215000\n",
              "69706          141  41.934994   27.30  ...        99     MA1  05:48.220000\n",
              "69707          142  50.934994   27.28  ...        99     MA1  05:48.225000\n",
              "69708          143  43.424994   31.55  ...        99     MA1  05:48.230000\n",
              "69709          144  31.894994   29.78  ...        99     MA1  05:48.235000\n",
              "\n",
              "[586809 rows x 8 columns]"
            ]
          },
          "metadata": {
            "tags": []
          },
          "execution_count": 27
        }
      ]
    },
    {
      "cell_type": "markdown",
      "metadata": {
        "id": "7152369c"
      },
      "source": [
        "# Curacion de datos que eliminan el valor 99 de stimulus"
      ],
      "id": "7152369c"
    },
    {
      "cell_type": "code",
      "metadata": {
        "id": "57e16c61"
      },
      "source": [
        "df= df[df.Stimulus != 99]"
      ],
      "id": "57e16c61",
      "execution_count": null,
      "outputs": []
    },
    {
      "cell_type": "code",
      "metadata": {
        "id": "GmYxC1BdIT25"
      },
      "source": [
        "df.set_index(columns[0], inplace= True)"
      ],
      "id": "GmYxC1BdIT25",
      "execution_count": null,
      "outputs": []
    },
    {
      "cell_type": "code",
      "metadata": {
        "id": "cca0a6da"
      },
      "source": [
        "df.to_csv(r'DataFrame_curado.csv', index = False)"
      ],
      "id": "cca0a6da",
      "execution_count": null,
      "outputs": []
    }
  ]
}